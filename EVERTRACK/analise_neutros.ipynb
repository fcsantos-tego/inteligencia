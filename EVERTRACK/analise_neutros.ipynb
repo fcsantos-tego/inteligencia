{
 "cells": [
  {
   "cell_type": "code",
   "execution_count": 1,
   "id": "6f8bb2f9-a574-41cf-aba5-524ba4b8c543",
   "metadata": {},
   "outputs": [],
   "source": [
    "import pandas as pd\n",
    "\n",
    "# Carregar os dados\n",
    "df = pd.read_excel(r\"C:\\Users\\fcsantos\\OneDrive - BERNHOEFT CONTADORES ASSOCIADOS LTDA\\_Inteligência_Empresarial\\Atividades_Felipe\\Evertrack\\dados_brutos_concatenados\\avaliação.xlsx\")\n",
    "\n",
    "# Agrupar os dados\n",
    "grouped_df = df.groupby(['Time', 'Aplicação']).sum()\n",
    "\n",
    "# Resetar o índice para tornar 'Time' e 'Aplicação' colunas novamente\n",
    "grouped_df = grouped_df.reset_index()\n",
    "\n",
    "# Listar todos os times únicos\n",
    "times = df['Time'].unique()\n",
    "\n",
    "# Caminho onde a planilha será salva\n",
    "output_path = r\"C:\\Users\\fcsantos\\OneDrive - BERNHOEFT CONTADORES ASSOCIADOS LTDA\\_Inteligência_Empresarial\\Atividades_Felipe\\Evertrack\\dados_brutos_concatenados\\atividades_a_classificar.xlsx\"\n",
    "\n",
    "# Criar um escritor de excel usando openpyxl\n",
    "with pd.ExcelWriter(output_path, engine='openpyxl') as writer:\n",
    "    # Para cada time, criar uma nova aba\n",
    "    for time in times:\n",
    "        time_df = grouped_df[grouped_df['Time'] == time]\n",
    "        time_df.to_excel(writer, sheet_name=time, index=False)\n",
    "    \n",
    "    # Adicionar uma aba adicional com todos os dados\n",
    "    grouped_df.to_excel(writer, sheet_name='Todos os Times', index=False)\n"
   ]
  },
  {
   "cell_type": "code",
   "execution_count": null,
   "id": "3efa84f2-9279-407a-8971-8cbebd409052",
   "metadata": {},
   "outputs": [],
   "source": []
  }
 ],
 "metadata": {
  "kernelspec": {
   "display_name": "Python 3 (ipykernel)",
   "language": "python",
   "name": "python3"
  },
  "language_info": {
   "codemirror_mode": {
    "name": "ipython",
    "version": 3
   },
   "file_extension": ".py",
   "mimetype": "text/x-python",
   "name": "python",
   "nbconvert_exporter": "python",
   "pygments_lexer": "ipython3",
   "version": "3.9.13"
  }
 },
 "nbformat": 4,
 "nbformat_minor": 5
}
