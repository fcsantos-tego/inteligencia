{
 "cells": [
  {
   "cell_type": "code",
   "execution_count": 3,
   "id": "e2a3970f-67b0-482e-a054-7b8645063eff",
   "metadata": {},
   "outputs": [
    {
     "name": "stdout",
     "output_type": "stream",
     "text": [
      "Nenhuma linha foi perdida na concatenação.\n"
     ]
    }
   ],
   "source": [
    "import os\n",
    "import re\n",
    "import pandas as pd\n",
    "\n",
    "pasta = \"C:/Users/fcsantos/OneDrive - BERNHOEFT CONTADORES ASSOCIADOS LTDA/_Inteligência_Empresarial/Atividades_Felipe/Evertrack/dados_brutos\"\n",
    "pasta_saida = \"C:/Users/fcsantos/OneDrive - BERNHOEFT CONTADORES ASSOCIADOS LTDA/_Inteligência_Empresarial/Atividades_Felipe/Evertrack/dados_brutos_concatenados\"\n",
    "\n",
    "# Encontre todos os arquivos .csv na pasta\n",
    "arquivos = [f for f in os.listdir(pasta) if f.endswith('.csv')]\n",
    "\n",
    "lista_de_dataframes = []\n",
    "data_inicial = None\n",
    "data_final = None\n",
    "\n",
    "total_linhas_originais = 0\n",
    "linhas_com_valores_em_branco = 0\n",
    "\n",
    "# Leia cada arquivo e adicione-o à lista de dataframes\n",
    "for arquivo in arquivos:\n",
    "    df = pd.read_csv(os.path.join(pasta, arquivo), encoding='ISO-8859-1')\n",
    "    \n",
    "    # Contabilize o total de linhas originais\n",
    "    total_linhas_originais += len(df)\n",
    "    \n",
    "    # Contabilize as linhas com valores em branco\n",
    "    linhas_com_valores_em_branco += df.isnull().sum().sum()\n",
    "    \n",
    "    lista_de_dataframes.append(df)\n",
    "\n",
    "    # Encontre as datas no nome do arquivo\n",
    "    datas = re.findall(r'\\d{4}_\\d{2}_\\d{2}', arquivo)\n",
    "    if datas:\n",
    "        # Converta para o formato aaaa-mm-dd\n",
    "        datas = [data.replace('_', '-') for data in datas]\n",
    "\n",
    "        # Atualize a data inicial e final conforme necessário\n",
    "        if not data_inicial or datas[0] < data_inicial:\n",
    "            data_inicial = datas[0]\n",
    "        if not data_final or datas[-1] > data_final:\n",
    "            data_final = datas[-1]\n",
    "\n",
    "# Concatene todos os dataframes em um único dataframe\n",
    "df_final = pd.concat(lista_de_dataframes)\n",
    "\n",
    "# Verifique se alguma linha foi perdida\n",
    "total_linhas_final = len(df_final)\n",
    "if total_linhas_originais == total_linhas_final:\n",
    "    print(\"Nenhuma linha foi perdida na concatenação.\")\n",
    "else:\n",
    "    print(f\"{total_linhas_originais - total_linhas_final} linhas foram perdidas na concatenação.\")\n",
    "\n",
    "# Verifique se existem linhas com valores em branco\n",
    "if linhas_com_valores_em_branco > 0:\n",
    "    print(f\"Há {linhas_com_valores_em_branco} células com valores em branco nos dados originais.\")\n",
    "\n",
    "# Crie o nome do arquivo de saída\n",
    "nome_saida = f\"dados_brutos_concatenados_{data_inicial}_a_{data_final}.csv\"\n",
    "caminho_saida = os.path.join(pasta_saida, nome_saida)\n",
    "\n",
    "# Salve o dataframe final\n",
    "df_final.to_csv(caminho_saida, index=False, encoding='ISO-8859-1')\n"
   ]
  },
  {
   "cell_type": "code",
   "execution_count": 10,
   "id": "ca800db4-7e15-4e94-b4da-f048f8ea3a13",
   "metadata": {},
   "outputs": [
    {
     "name": "stdout",
     "output_type": "stream",
     "text": [
      "Análise salva com sucesso.\n"
     ]
    }
   ],
   "source": [
    "import pandas as pd\n",
    "import datetime\n",
    "\n",
    "# Carregar o arquivo de dados\n",
    "arquivo_dados = \"C:\\\\Users\\\\fcsantos\\\\OneDrive - BERNHOEFT CONTADORES ASSOCIADOS LTDA\\\\_Inteligência_Empresarial\\\\Atividades_Felipe\\\\Evertrack\\\\dados_brutos_concatenados\\\\dados_brutos_concatenados_2023-04-18_a_2023-05-09.csv\"\n",
    "df = pd.read_csv(arquivo_dados, encoding='ISO-8859-1', sep=';')\n",
    "\n",
    "# Remover espaços extras no nome das colunas\n",
    "df.columns = df.columns.str.strip()\n",
    "\n",
    "# Corrigir o nome das colunas 'Duração' e 'Aplicação'\n",
    "df.columns = df.columns.str.replace('DuraÃ§Ã£o', 'Duração')\n",
    "df.columns = df.columns.str.replace('AplicaÃ§Ã£o', 'Aplicação')\n",
    "df.columns = df.columns.str.replace('ï»¿Time', 'Time')\n",
    "\n",
    "# Converter a coluna 'Duração' em timedelta\n",
    "df['Duração'] = pd.to_timedelta(df['Duração'])\n",
    "\n",
    "# Filtrar as atividades com valor \"Neutra\" na coluna \"Tipo da categoria\"\n",
    "df_neutras = df[df['Tipo da categoria'] == 'Neutra']\n",
    "\n",
    "# Agrupar por 'Time' e 'Aplicação', somando a 'Duração'\n",
    "df_neutras = df_neutras.groupby(['Time', 'Aplicação'])['Duração'].sum().reset_index()\n",
    "\n",
    "# Ordenar por 'Duração' em ordem decrescente\n",
    "df_neutras = df_neutras.sort_values(by='Duração', ascending=False)\n",
    "\n",
    "# Salvar a análise em um arquivo Excel\n",
    "data_atual = datetime.datetime.now().strftime(\"%Y-%m-%d\")\n",
    "arquivo_saida = f\"C:\\\\Users\\\\fcsantos\\\\OneDrive - BERNHOEFT CONTADORES ASSOCIADOS LTDA\\\\_Inteligência_Empresarial\\\\Atividades_Felipe\\\\Evertrack\\\\dados_brutos_concatenados\\\\analise_atividades_neutras_{data_atual}.xlsx\"\n",
    "df_neutras.to_excel(arquivo_saida, index=False)\n",
    "\n",
    "print(\"Análise salva com sucesso.\")\n"
   ]
  },
  {
   "cell_type": "code",
   "execution_count": null,
   "id": "8aa446eb-0dce-450b-9479-38d110666701",
   "metadata": {},
   "outputs": [],
   "source": []
  }
 ],
 "metadata": {
  "kernelspec": {
   "display_name": "Python 3 (ipykernel)",
   "language": "python",
   "name": "python3"
  },
  "language_info": {
   "codemirror_mode": {
    "name": "ipython",
    "version": 3
   },
   "file_extension": ".py",
   "mimetype": "text/x-python",
   "name": "python",
   "nbconvert_exporter": "python",
   "pygments_lexer": "ipython3",
   "version": "3.9.13"
  }
 },
 "nbformat": 4,
 "nbformat_minor": 5
}
