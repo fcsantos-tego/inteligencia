{
 "cells": [
  {
   "cell_type": "code",
   "execution_count": 51,
   "id": "3fd9eaec-1e7d-4eef-9998-e5566a6280ff",
   "metadata": {},
   "outputs": [
    {
     "name": "stdout",
     "output_type": "stream",
     "text": [
      "Soma: 12\n",
      "Subtração: 4\n",
      "Multiplicação: 32\n",
      "Divisão: 2.0\n"
     ]
    }
   ],
   "source": [
    "# Exercício 1: Calcular e imprimir o resultado da soma, subtração, multiplicação e divisão de dois números.\n",
    "\n",
    "a = 8\n",
    "b = 4\n",
    "\n",
    "soma = a + b\n",
    "subtracao = a - b\n",
    "multiplicacao = a * b\n",
    "divisao = a / b\n",
    "\n",
    "print(\"Soma:\", soma)\n",
    "print(\"Subtração:\", subtracao)\n",
    "print(\"Multiplicação:\", multiplicacao)\n",
    "print(\"Divisão:\", divisao)"
   ]
  },
  {
   "cell_type": "code",
   "execution_count": 53,
   "id": "85d0f973-b40b-46da-9a6b-d2095f021d58",
   "metadata": {},
   "outputs": [
    {
     "name": "stdout",
     "output_type": "stream",
     "text": [
      "Temperatura em Farenheit: 86.0\n"
     ]
    }
   ],
   "source": [
    "# Exercício 2: Converter uma temperatura em graus Celsius para graus Fahrenheit e imprimir o resultado.\n",
    "\n",
    "celsius = 30\n",
    "fahrenheit = celsius * 9/5 + 32\n",
    "print(\"Temperatura em Farenheit:\", fahrenheit)"
   ]
  },
  {
   "cell_type": "code",
   "execution_count": 55,
   "id": "8ae20ae5-e7d8-494f-a81a-65242098c805",
   "metadata": {},
   "outputs": [
    {
     "name": "stdout",
     "output_type": "stream",
     "text": [
      "O número 7 é ímpar\n"
     ]
    }
   ],
   "source": [
    "# Exercício 3: Verificar se um número é par ou ímpar e imprimir o resultado.\n",
    "\n",
    "numero = 7\n",
    "if numero % 2 == 0:\n",
    "    print(\"O número\", numero, \"é par\")\n",
    "else:\n",
    "    print(\"O número\", numero, \"é ímpar\")"
   ]
  },
  {
   "cell_type": "code",
   "execution_count": 60,
   "id": "6e9f03a9-4479-4ab6-a0a0-919a4f707dbd",
   "metadata": {},
   "outputs": [
    {
     "name": "stdout",
     "output_type": "stream",
     "text": [
      "A área do retângulo é 50\n",
      "O perímetro do retângulo é 30\n"
     ]
    }
   ],
   "source": [
    "# Exercício 4: Calcular a área e o perímetro de um retângulo com base em sua altura e largura.\n",
    "\n",
    "altura = 5\n",
    "largura = 10\n",
    "\n",
    "area = altura * largura\n",
    "perimetro = 2 * (altura + largura)\n",
    "\n",
    "print(\"A área do retângulo é\", area)\n",
    "print(\"O perímetro do retângulo é\", perimetro)"
   ]
  },
  {
   "cell_type": "code",
   "execution_count": 59,
   "id": "adab09d4-af5b-43ac-b9e0-ca383fb401b7",
   "metadata": {},
   "outputs": [
    {
     "name": "stdout",
     "output_type": "stream",
     "text": [
      "Meu nome e sobrenome são: Felipe Cardoso\n"
     ]
    }
   ],
   "source": [
    "# Exercício 5: Concatenar duas strings e imprimir o resultado.\n",
    "\n",
    "nome = \"Felipe\"\n",
    "sobrenome = \"Cardoso\"\n",
    "\n",
    "print(\"Meu nome e sobrenome são:\", nome, sobrenome)"
   ]
  },
  {
   "cell_type": "code",
   "execution_count": null,
   "id": "11e42a2f-2070-42bf-a7e4-a5bbdea84623",
   "metadata": {},
   "outputs": [],
   "source": []
  }
 ],
 "metadata": {
  "kernelspec": {
   "display_name": "Python 3 (ipykernel)",
   "language": "python",
   "name": "python3"
  },
  "language_info": {
   "codemirror_mode": {
    "name": "ipython",
    "version": 3
   },
   "file_extension": ".py",
   "mimetype": "text/x-python",
   "name": "python",
   "nbconvert_exporter": "python",
   "pygments_lexer": "ipython3",
   "version": "3.9.13"
  }
 },
 "nbformat": 4,
 "nbformat_minor": 5
}
