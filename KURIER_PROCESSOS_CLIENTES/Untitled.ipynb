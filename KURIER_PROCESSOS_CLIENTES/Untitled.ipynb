{
 "cells": [
  {
   "cell_type": "code",
   "execution_count": 1,
   "id": "6881a6cd-0a8b-4c22-b1dc-21745d4217fe",
   "metadata": {},
   "outputs": [
    {
     "name": "stdout",
     "output_type": "stream",
     "text": [
      "Separadores encontrados e suas frequências:\n",
      "|: 11470\n",
      "-: 450\n",
      ",: 58\n",
      "&: 2212\n",
      "/: 287\n",
      ";: 1\n"
     ]
    }
   ],
   "source": [
    "import re\n",
    "from collections import Counter\n",
    "import pandas as pd\n",
    "\n",
    "def find_separators(column_data):\n",
    "    separators_list = []\n",
    "    separator_pattern = r'[;,/|&-]'\n",
    "\n",
    "    for row in column_data:\n",
    "        if isinstance(row, str):\n",
    "            separators = re.findall(separator_pattern, row)\n",
    "            separators_list.extend(separators)\n",
    "\n",
    "    return Counter(separators_list)\n",
    "\n",
    "# Altere o caminho do arquivo Excel e o nome da aba para os seus valores\n",
    "excel_file_path = r'C:\\Teste\\Monitoramento de processos Kurier\\BASE_BI\\Base_Kurier_Processos_BI.xlsx'\n",
    "sheet_name = 'Identificados'\n",
    "\n",
    "# Use a função read_excel do pandas para ler a planilha desejada\n",
    "df = pd.read_excel(excel_file_path, sheet_name=sheet_name)\n",
    "\n",
    "# Substitua 'Réu' pelo nome da coluna desejada\n",
    "reu_column_data = df['Réu']\n",
    "separators_counter = find_separators(reu_column_data)\n",
    "\n",
    "print(\"Separadores encontrados e suas frequências:\")\n",
    "for separator, frequency in separators_counter.items():\n",
    "    print(f\"{separator}: {frequency}\")\n"
   ]
  },
  {
   "cell_type": "code",
   "execution_count": null,
   "id": "54a5643e-c9e1-4153-858c-4b5d8e857bdd",
   "metadata": {},
   "outputs": [],
   "source": []
  }
 ],
 "metadata": {
  "kernelspec": {
   "display_name": "Python 3 (ipykernel)",
   "language": "python",
   "name": "python3"
  },
  "language_info": {
   "codemirror_mode": {
    "name": "ipython",
    "version": 3
   },
   "file_extension": ".py",
   "mimetype": "text/x-python",
   "name": "python",
   "nbconvert_exporter": "python",
   "pygments_lexer": "ipython3",
   "version": "3.9.13"
  }
 },
 "nbformat": 4,
 "nbformat_minor": 5
}
