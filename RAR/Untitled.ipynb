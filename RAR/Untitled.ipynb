{
 "cells": [
  {
   "cell_type": "code",
   "execution_count": 1,
   "id": "d1dcac41-8f23-4290-a306-39461f337d5a",
   "metadata": {},
   "outputs": [
    {
     "name": "stdin",
     "output_type": "stream",
     "text": [
      "Enter password:  ········\n",
      "Verify password:  ········\n"
     ]
    },
    {
     "data": {
      "text/plain": [
       "'argon2:$argon2id$v=19$m=10240,t=10,p=8$qs9fNYdKYuc81RlQQ4eWlQ$mBqfxF4Uxvj6KxBPP1IRWj+C9XjR7DVY9c+uZoreAOw'"
      ]
     },
     "execution_count": 1,
     "metadata": {},
     "output_type": "execute_result"
    }
   ],
   "source": [
    "from jupyter_server.auth import passwd\n",
    "passwd()\n"
   ]
  },
  {
   "cell_type": "code",
   "execution_count": null,
   "id": "95116545-8c8a-4fb6-9b5b-315004258727",
   "metadata": {},
   "outputs": [],
   "source": []
  }
 ],
 "metadata": {
  "kernelspec": {
   "display_name": "Python 3 (ipykernel)",
   "language": "python",
   "name": "python3"
  },
  "language_info": {
   "codemirror_mode": {
    "name": "ipython",
    "version": 3
   },
   "file_extension": ".py",
   "mimetype": "text/x-python",
   "name": "python",
   "nbconvert_exporter": "python",
   "pygments_lexer": "ipython3",
   "version": "3.9.13"
  }
 },
 "nbformat": 4,
 "nbformat_minor": 5
}
