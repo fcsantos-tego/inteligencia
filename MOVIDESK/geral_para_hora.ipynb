{
 "cells": [
  {
   "cell_type": "code",
   "execution_count": 1,
   "id": "a4b7a590-a399-4476-a61b-6b03db3f0140",
   "metadata": {},
   "outputs": [
    {
     "name": "stderr",
     "output_type": "stream",
     "text": [
      "C:\\Users\\fcsantos\\Anaconda3\\lib\\site-packages\\openpyxl\\workbook\\child.py:99: UserWarning: Title is more than 31 characters. Some applications may not be able to read the file\n",
      "  warnings.warn(\"Title is more than 31 characters. Some applications may not be able to read the file\")\n"
     ]
    }
   ],
   "source": [
    "import pandas as pd\n",
    "\n",
    "# Especificar o caminho do arquivo e os nomes das abas\n",
    "caminho_arquivo = r\"C:\\Users\\fcsantos\\OneDrive - BERNHOEFT CONTADORES ASSOCIADOS LTDA\\_Inteligência_Empresarial\\AREAS\\RELACIONAMENTO\\USUARIOS_ATIVOS\\comparativo_baseantiga_baseatual.xlsx\"\n",
    "nomes_abas = [\"BASE_BI_USUARIOS_ATIVOS\", \"BASE_ATUAL\"]\n",
    "\n",
    "# Abrir o arquivo Excel\n",
    "with pd.ExcelWriter(caminho_arquivo, engine='openpyxl', mode='a') as writer:\n",
    "    for nome_aba in nomes_abas:\n",
    "        # Ler a aba\n",
    "        df = pd.read_excel(caminho_arquivo, sheet_name=nome_aba)\n",
    "\n",
    "        # Verificar se alguma linha foi perdida no processo\n",
    "        num_linhas_original = df.shape[0]\n",
    "\n",
    "        # Converter a coluna de data\n",
    "        df['data'] = pd.to_datetime(df['data'], format='%d/%m/%Y')\n",
    "\n",
    "        # Ordenar por data\n",
    "        df = df.sort_values(by='data')\n",
    "\n",
    "        # Verificar novamente o número de linhas\n",
    "        num_linhas_novo = df.shape[0]\n",
    "\n",
    "        # Imprimir se alguma linha foi perdida\n",
    "        if num_linhas_original != num_linhas_novo:\n",
    "            print(f\"Alguma linha foi perdida no processo para a aba {nome_aba}.\")\n",
    "\n",
    "        # Escrever a aba formatada no arquivo Excel\n",
    "        df.to_excel(writer, sheet_name=nome_aba+\"_formatado\", index=False)\n"
   ]
  },
  {
   "cell_type": "code",
   "execution_count": null,
   "id": "3c5c3d23-df93-425a-99d9-20599bba9e56",
   "metadata": {},
   "outputs": [],
   "source": [
    "import pandas as pd\n",
    "\n",
    "# Especificar o caminho do arquivo e os nomes das abas\n",
    "caminho_arquivo = r\"C:\\Users\\fcsantos\\OneDrive - BERNHOEFT CONTADORES ASSOCIADOS LTDA\\_Inteligência_Empresarial\\AREAS\\RELACIONAMENTO\\USUARIOS_ATIVOS\\comparativo_baseantiga_baseatual.xlsx\"\n",
    "nomes_abas = [\"BASE_BI_USUARIOS_ATIVOS\", \"BASE_ATUAL\"]\n",
    "\n",
    "# Abrir o arquivo Excel\n",
    "with pd.ExcelWriter(caminho_arquivo, engine='openpyxl', mode='a') as writer:\n",
    "    for nome_aba in nomes_abas:\n",
    "        print(f\"Processando a aba {nome_aba}...\")\n",
    "        \n",
    "        print(\"Lendo a aba...\")\n",
    "        # Ler a aba\n",
    "        df = pd.read_excel(caminho_arquivo, sheet_name=nome_aba)\n",
    "\n",
    "        # Verificar se alguma linha foi perdida no processo\n",
    "        num_linhas_original = df.shape[0]\n",
    "        print(f\"Número original de linhas: {num_linhas_original}\")\n",
    "\n",
    "        print(\"Convertendo a coluna de data...\")\n",
    "        # Converter a coluna de data\n",
    "        df['data'] = pd.to_datetime(df['data'], format='%d/%m/%Y')\n",
    "\n",
    "        print(\"Ordenando por data...\")\n",
    "        # Ordenar por data\n",
    "        df = df.sort_values(by='data')\n",
    "\n",
    "        # Verificar novamente o número de linhas\n",
    "        num_linhas_novo = df.shape[0]\n",
    "        print(f\"Número novo de linhas: {num_linhas_novo}\")\n",
    "\n",
    "        # Imprimir se alguma linha foi perdida\n",
    "        if num_linhas_original != num_linhas_novo:\n",
    "            print(f\"Alguma linha foi perdida no processo para a aba {nome_aba}.\")\n",
    "\n",
    "        print(\"Escrevendo a aba formatada no arquivo Excel...\")\n",
    "        # Escrever a aba formatada no arquivo Excel\n",
    "        df.to_excel(writer, sheet_name=nome_aba+\"_formatado\", index=False)\n",
    "        \n",
    "        print(f\"Aba {nome_aba} processada com sucesso.\")\n"
   ]
  }
 ],
 "metadata": {
  "kernelspec": {
   "display_name": "Python 3 (ipykernel)",
   "language": "python",
   "name": "python3"
  },
  "language_info": {
   "codemirror_mode": {
    "name": "ipython",
    "version": 3
   },
   "file_extension": ".py",
   "mimetype": "text/x-python",
   "name": "python",
   "nbconvert_exporter": "python",
   "pygments_lexer": "ipython3",
   "version": "3.9.13"
  }
 },
 "nbformat": 4,
 "nbformat_minor": 5
}
