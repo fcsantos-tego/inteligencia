{
 "cells": [
  {
   "cell_type": "code",
   "execution_count": 3,
   "id": "d3751bb5-908e-468e-958a-3e654d95e88f",
   "metadata": {},
   "outputs": [
    {
     "name": "stdout",
     "output_type": "stream",
     "text": [
      "Collecting pynput\n",
      "  Downloading pynput-1.7.6-py2.py3-none-any.whl (89 kB)\n",
      "     ---------------------------------------- 89.2/89.2 kB 1.7 MB/s eta 0:00:00\n",
      "Requirement already satisfied: six in c:\\users\\fcsantos\\anaconda3\\lib\\site-packages (from pynput) (1.16.0)\n",
      "Installing collected packages: pynput\n",
      "Successfully installed pynput-1.7.6\n",
      "Note: you may need to restart the kernel to use updated packages.\n"
     ]
    }
   ],
   "source": [
    "pip install pynput"
   ]
  },
  {
   "cell_type": "code",
   "execution_count": null,
   "id": "5362046c-f3f0-45f3-8368-ca035354f160",
   "metadata": {},
   "outputs": [],
   "source": [
    "import pyautogui\n",
    "import random\n",
    "import time\n",
    "from pynput import keyboard\n",
    "\n",
    "# Defina o tempo total de execução da automação em segundos\n",
    "total_time = 3600  # 1 hora, por exemplo\n",
    "\n",
    "# Defina a tecla de emergência\n",
    "emergency_key = 'esc'\n",
    "\n",
    "# Variável para controlar se a automação deve continuar rodando\n",
    "keep_running = True\n",
    "\n",
    "def on_press(key):\n",
    "    global keep_running\n",
    "    if key == keyboard.Key[emergency_key]:\n",
    "        keep_running = False\n",
    "\n",
    "# Comece a escutar os eventos do teclado\n",
    "listener = keyboard.Listener(on_press=on_press)\n",
    "listener.start()\n",
    "\n",
    "start_time = time.time()\n",
    "\n",
    "while time.time() - start_time < total_time and keep_running:\n",
    "    # Mova o mouse para uma posição aleatória na tela a cada 2 a 4 minutos\n",
    "    pyautogui.moveTo(random.randint(0, pyautogui.size().width), random.randint(0, pyautogui.size().height), duration=2)\n",
    "    time.sleep(random.randint(50, 250))\n",
    "\n",
    "    # Use Alt+Tab para alternar entre as janelas de aplicativos a cada 1 a 8 minutos\n",
    "    pyautogui.hotkey('alt', 'tab')\n",
    "    time.sleep(random.randint(200, 300))\n",
    "\n",
    "listener.stop()\n"
   ]
  },
  {
   "cell_type": "code",
   "execution_count": null,
   "id": "ea3e3aeb-5d5f-48f9-b629-2d5c13d92f9a",
   "metadata": {},
   "outputs": [],
   "source": []
  },
  {
   "cell_type": "code",
   "execution_count": null,
   "id": "6b7cad2e-4734-48ee-ba19-017f6e2cf2f8",
   "metadata": {},
   "outputs": [],
   "source": []
  }
 ],
 "metadata": {
  "kernelspec": {
   "display_name": "Python 3 (ipykernel)",
   "language": "python",
   "name": "python3"
  },
  "language_info": {
   "codemirror_mode": {
    "name": "ipython",
    "version": 3
   },
   "file_extension": ".py",
   "mimetype": "text/x-python",
   "name": "python",
   "nbconvert_exporter": "python",
   "pygments_lexer": "ipython3",
   "version": "3.9.13"
  }
 },
 "nbformat": 4,
 "nbformat_minor": 5
}
