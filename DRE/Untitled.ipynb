{
 "cells": [
  {
   "cell_type": "code",
   "execution_count": null,
   "id": "7aa9f40a-42e2-4d3b-b776-61618f0599ef",
   "metadata": {},
   "outputs": [],
   "source": [
    "import xlwings as xw\n",
    "import random\n",
    "\n",
    "# Abra a planilha\n",
    "wb = xw.Book(r\"C:\\Users\\fcsantos\\OneDrive - BERNHOEFT CONTADORES ASSOCIADOS LTDA\\_Inteligência_Empresarial\\RAR\\DRE\\tratamento_dres_alterado\\DRE_04.2023.xlsx\")\n",
    "\n",
    "# Lista das abas que você deseja alterar\n",
    "abas = ['Acomp Performance', 'Mensal_Células', 'Semestral_Células', 'Anual_Células', 'Anual_GRT', 'TD_CID Colaborador', 'TD_CID Mensal', 'TD_Prod', 'App', 'Produzido', 'CID', 'CID_Enc Custos', 'CID_Rateios', 'HE_Bonus_Dissídio', 'Outros Custos Diretos', 'Tipo de serviço']\n",
    "\n",
    "# Percorra cada aba na lista\n",
    "for aba in abas:\n",
    "    # Selecione a aba\n",
    "    print(f\"Processando aba {aba}...\")\n",
    "    sheet = wb.sheets[aba]\n",
    "\n",
    "    # Percorra cada célula na aba\n",
    "    for cell in sheet.used_range:\n",
    "        # Se a célula contém um valor numérico e não uma fórmula, substitua-o por um número aleatório\n",
    "        if cell.value is not None and isinstance(cell.value, (int, float)) and cell.formula == '':\n",
    "            cell.value = random.random()\n",
    "\n",
    "# Salve a planilha\n",
    "print(\"Salvando a planilha...\")\n",
    "wb.save(r\"C:\\Users\\fcsantos\\OneDrive - BERNHOEFT CONTADORES ASSOCIADOS LTDA\\_Inteligência_Empresarial\\RAR\\DRE\\tratamento_dres_alterado\\sintética.xlsx\")\n",
    "\n",
    "print(\"Concluído!\")\n"
   ]
  }
 ],
 "metadata": {
  "kernelspec": {
   "display_name": "Python 3 (ipykernel)",
   "language": "python",
   "name": "python3"
  },
  "language_info": {
   "codemirror_mode": {
    "name": "ipython",
    "version": 3
   },
   "file_extension": ".py",
   "mimetype": "text/x-python",
   "name": "python",
   "nbconvert_exporter": "python",
   "pygments_lexer": "ipython3",
   "version": "3.9.13"
  }
 },
 "nbformat": 4,
 "nbformat_minor": 5
}
