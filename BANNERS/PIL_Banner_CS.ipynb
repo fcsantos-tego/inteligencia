{
 "cells": [
  {
   "cell_type": "code",
   "execution_count": null,
   "id": "6047e65f-604d-4fb5-8d3b-5562ab5fb2d2",
   "metadata": {},
   "outputs": [],
   "source": [
    "import tkinter as tk\n",
    "from PIL import Image, ImageDraw, ImageFont\n",
    "\n",
    "def create_banner():\n",
    "    # Read input data from the GUI\n",
    "    customer_name = entry_customer_name.get()\n",
    "    \n",
    "    # Load the standardized banner image\n",
    "    banner = Image.open(\"standard_banner.png\")\n",
    "    draw = ImageDraw.Draw(banner)\n",
    "    \n",
    "    # Update the customer name on the banner\n",
    "    font = ImageFont.truetype(\"Arial.ttf\", 24)\n",
    "    draw.text((100, 100), customer_name, font=font, fill=\"black\")\n",
    "    \n",
    "    # Save the updated banner\n",
    "    banner.save(\"updated_banner.png\")\n",
    "\n",
    "# Create a simple GUI using Tkinter\n",
    "root = tk.Tk()\n",
    "\n",
    "label_customer_name = tk.Label(root, text=\"Customer Name:\")\n",
    "label_customer_name.grid(row=0, column=0)\n",
    "entry_customer_name = tk.Entry(root)\n",
    "entry_customer_name.grid(row=0, column=1)\n",
    "\n",
    "button_create_banner = tk.Button(root, text=\"Create Banner\", command=create_banner)\n",
    "button_create_banner.grid(row=1, columnspan=2)\n",
    "\n",
    "root.mainloop()\n"
   ]
  },
  {
   "cell_type": "code",
   "execution_count": 1,
   "id": "e2eed851-5d3c-44b5-b09a-ff8035cd222f",
   "metadata": {},
   "outputs": [
    {
     "name": "stdout",
     "output_type": "stream",
     "text": [
      "Requirement already satisfied: Pillow in c:\\users\\fcsantos\\anaconda3\\lib\\site-packages (9.2.0)\n",
      "Note: you may need to restart the kernel to use updated packages.\n"
     ]
    }
   ],
   "source": [
    "pip install Pillow"
   ]
  },
  {
   "cell_type": "code",
   "execution_count": 2,
   "id": "40ce2bab-d9e2-45b9-8e41-b82799562ca9",
   "metadata": {},
   "outputs": [
    {
     "name": "stdout",
     "output_type": "stream",
     "text": [
      "Note: you may need to restart the kernel to use updated packages.\n"
     ]
    },
    {
     "name": "stderr",
     "output_type": "stream",
     "text": [
      "ERROR: Could not find a version that satisfies the requirement Tkinter (from versions: none)\n",
      "ERROR: No matching distribution found for Tkinter\n"
     ]
    }
   ],
   "source": [
    "pip install Tkinter"
   ]
  },
  {
   "cell_type": "code",
   "execution_count": 3,
   "id": "c4faaa3d-45e3-455c-a133-95caaa6abb0f",
   "metadata": {},
   "outputs": [],
   "source": [
    "%gui tk"
   ]
  },
  {
   "cell_type": "code",
   "execution_count": 3,
   "id": "b301f01b-bd85-4136-bc5f-2972de19e422",
   "metadata": {},
   "outputs": [],
   "source": [
    "import tkinter as tk\n",
    "from PIL import Image, ImageDraw, ImageFont\n",
    "\n",
    "def create_banner():\n",
    "    # Read input data from the GUI\n",
    "    customer_name = entry_customer_name.get()\n",
    "    \n",
    "    # Load the standardized banner image\n",
    "    banner = Image.open(\"standard_banner.png\")\n",
    "    draw = ImageDraw.Draw(banner)\n",
    "    \n",
    "    # Update the customer name on the banner\n",
    "    font = ImageFont.truetype(\"Arial.ttf\", 1000)\n",
    "    draw.text((100, 100), customer_name, font=font, fill=\"black\")\n",
    "    \n",
    "    # Save the updated banner\n",
    "    banner.save(\"updated_banner.png\")\n",
    "\n",
    "# Create a simple GUI using Tkinter\n",
    "root = tk.Tk()\n",
    "\n",
    "label_customer_name = tk.Label(root, text=\"Customer Name:\")\n",
    "label_customer_name.grid(row=0, column=0)\n",
    "entry_customer_name = tk.Entry(root)\n",
    "entry_customer_name.grid(row=0, column=1)\n",
    "\n",
    "button_create_banner = tk.Button(root, text=\"Create Banner\", command=create_banner)\n",
    "button_create_banner.grid(row=1, columnspan=2)\n",
    "\n",
    "root.mainloop()\n"
   ]
  },
  {
   "cell_type": "code",
   "execution_count": 4,
   "id": "e1b72391-c632-4788-a8d9-58b89e9076cb",
   "metadata": {},
   "outputs": [
    {
     "name": "stdout",
     "output_type": "stream",
     "text": [
      "Collecting aiohttpNote: you may need to restart the kernel to use updated packages.\n",
      "\n",
      "  Downloading aiohttp-3.8.4-cp39-cp39-win_amd64.whl (323 kB)\n",
      "     -------------------------------------- 323.6/323.6 kB 3.4 MB/s eta 0:00:00\n",
      "Collecting multidict<7.0,>=4.5\n",
      "  Downloading multidict-6.0.4-cp39-cp39-win_amd64.whl (28 kB)\n",
      "Collecting yarl<2.0,>=1.0\n",
      "  Downloading yarl-1.9.2-cp39-cp39-win_amd64.whl (61 kB)\n",
      "     ---------------------------------------- 61.7/61.7 kB ? eta 0:00:00\n",
      "Requirement already satisfied: attrs>=17.3.0 in c:\\users\\fcsantos\\anaconda3\\lib\\site-packages (from aiohttp) (21.4.0)\n",
      "Collecting async-timeout<5.0,>=4.0.0a3\n",
      "  Downloading async_timeout-4.0.2-py3-none-any.whl (5.8 kB)\n",
      "Collecting frozenlist>=1.1.1\n",
      "  Downloading frozenlist-1.3.3-cp39-cp39-win_amd64.whl (34 kB)\n",
      "Collecting aiosignal>=1.1.2\n",
      "  Downloading aiosignal-1.3.1-py3-none-any.whl (7.6 kB)\n",
      "Requirement already satisfied: charset-normalizer<4.0,>=2.0 in c:\\users\\fcsantos\\anaconda3\\lib\\site-packages (from aiohttp) (2.0.4)\n",
      "Requirement already satisfied: idna>=2.0 in c:\\users\\fcsantos\\anaconda3\\lib\\site-packages (from yarl<2.0,>=1.0->aiohttp) (3.3)\n",
      "Installing collected packages: multidict, frozenlist, async-timeout, yarl, aiosignal, aiohttp\n",
      "Successfully installed aiohttp-3.8.4 aiosignal-1.3.1 async-timeout-4.0.2 frozenlist-1.3.3 multidict-6.0.4 yarl-1.9.2\n"
     ]
    }
   ],
   "source": [
    "pip install aiohttp"
   ]
  },
  {
   "cell_type": "code",
   "execution_count": null,
   "id": "f5f6efdb-2588-46b4-abe4-c5db78c4f9b2",
   "metadata": {},
   "outputs": [],
   "source": []
  }
 ],
 "metadata": {
  "kernelspec": {
   "display_name": "Python 3 (ipykernel)",
   "language": "python",
   "name": "python3"
  },
  "language_info": {
   "codemirror_mode": {
    "name": "ipython",
    "version": 3
   },
   "file_extension": ".py",
   "mimetype": "text/x-python",
   "name": "python",
   "nbconvert_exporter": "python",
   "pygments_lexer": "ipython3",
   "version": "3.9.13"
  }
 },
 "nbformat": 4,
 "nbformat_minor": 5
}
